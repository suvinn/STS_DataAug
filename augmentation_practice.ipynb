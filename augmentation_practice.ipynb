{
 "cells": [
  {
   "cell_type": "code",
   "execution_count": 1,
   "id": "3f6d8273-0de9-48e7-ab4f-c2e5638bb669",
   "metadata": {},
   "outputs": [
    {
     "name": "stderr",
     "output_type": "stream",
     "text": [
      "/Users/suvin/.pyenv/versions/3.12.4/lib/python3.12/site-packages/tqdm/auto.py:21: TqdmWarning: IProgress not found. Please update jupyter and ipywidgets. See https://ipywidgets.readthedocs.io/en/stable/user_install.html\n",
      "  from .autonotebook import tqdm as notebook_tqdm\n"
     ]
    }
   ],
   "source": [
    "import pandas as pd\n",
    "from BERT_augmentation import BERT_Augmentation\n",
    "from adverb_augmentation import AdverbAugmentation\n",
    "import transformers"
   ]
  },
  {
   "cell_type": "markdown",
   "id": "8802dca3",
   "metadata": {},
   "source": [
    "### Data Load"
   ]
  },
  {
   "cell_type": "code",
   "execution_count": 27,
   "id": "7d752c85",
   "metadata": {},
   "outputs": [],
   "source": [
    "df = pd.read_csv('train.csv')"
   ]
  },
  {
   "cell_type": "code",
   "execution_count": 5,
   "id": "9a68a606",
   "metadata": {},
   "outputs": [
    {
     "data": {
      "text/plain": [
       "id                          boostcamp-sts-v1-train-000\n",
       "source                                    nsmc-sampled\n",
       "sentence_1      스릴도있고 반전도 있고 여느 한국영화 쓰레기들하고는 차원이 다르네요~\n",
       "sentence_2                        반전도 있고,사랑도 있고재미도있네요.\n",
       "label                                              2.2\n",
       "binary-label                                       0.0\n",
       "Name: 0, dtype: object"
      ]
     },
     "execution_count": 5,
     "metadata": {},
     "output_type": "execute_result"
    }
   ],
   "source": [
    "df.iloc[0]"
   ]
  },
  {
   "cell_type": "code",
   "execution_count": 10,
   "id": "aecee5b3",
   "metadata": {},
   "outputs": [
    {
     "data": {
      "text/plain": [
       "'스릴도있고 반전도 있고 여느 한국영화 쓰레기들하고는 차원이 다르네요~'"
      ]
     },
     "execution_count": 10,
     "metadata": {},
     "output_type": "execute_result"
    }
   ],
   "source": [
    "example = df.iloc[0]['sentence_1']\n",
    "example"
   ]
  },
  {
   "cell_type": "markdown",
   "id": "7237afb4-e905-42ab-9e35-4e99242b4ba8",
   "metadata": {},
   "source": [
    "## BERT augmentation\n",
    "Random Insertion Replacement"
   ]
  },
  {
   "cell_type": "code",
   "execution_count": 7,
   "id": "98f6be27-3445-4bdd-ba5a-e29f06498477",
   "metadata": {},
   "outputs": [
    {
     "name": "stderr",
     "output_type": "stream",
     "text": [
      "/Users/suvin/.pyenv/versions/3.12.4/lib/python3.12/site-packages/transformers/tokenization_utils_base.py:1601: FutureWarning: `clean_up_tokenization_spaces` was not set. It will be set to `True` by default. This behavior will be depracted in transformers v4.45, and will be then set to `False` by default. For more details check this issue: https://github.com/huggingface/transformers/issues/31884\n",
      "  warnings.warn(\n",
      "Hardware accelerator e.g. GPU is available in the environment, but no `device` argument is passed to the `Pipeline` object. Model will be on CPU.\n"
     ]
    }
   ],
   "source": [
    "BERT_aug = BERT_Augmentation()\n",
    "random_masking_insertion = BERT_aug.random_masking_insertion"
   ]
  },
  {
   "cell_type": "code",
   "execution_count": 11,
   "id": "8c81422c-9f0c-4965-ad4c-571af4304fbd",
   "metadata": {},
   "outputs": [],
   "source": [
    "sentence = example\n",
    "ratio = 0.15"
   ]
  },
  {
   "cell_type": "code",
   "execution_count": 17,
   "id": "960cc219-aa14-44f9-a1fb-494c3c3617d4",
   "metadata": {},
   "outputs": [
    {
     "name": "stdout",
     "output_type": "stream",
     "text": [
      "original_sentece: 스릴도있고 반전도 있고 여느 한국영화 쓰레기들하고는 차원이 다르네요~\n",
      "insertion_replacement: 스릴도있고 반전도 있고 여느나라 한국영화 쓰레기들하고는 차원이 다르네요 ~\n"
     ]
    }
   ],
   "source": [
    "print('original_sentece:', sentence)\n",
    "print('insertion_replacement:', random_masking_insertion(sentence, ratio))"
   ]
  },
  {
   "cell_type": "markdown",
   "id": "c079b51c-400b-4773-a84b-cfc1219146a9",
   "metadata": {},
   "source": [
    "## Adverb augmentation"
   ]
  },
  {
   "cell_type": "code",
   "execution_count": 8,
   "id": "59d6ed1d-4141-4fc3-82f1-3a57cb2bb5e8",
   "metadata": {},
   "outputs": [],
   "source": [
    "adverb_aug = AdverbAugmentation()\n",
    "adverb_gloss_replacement = adverb_aug.adverb_gloss_replacement"
   ]
  },
  {
   "cell_type": "code",
   "execution_count": 18,
   "id": "802c3abd-ed68-4a3d-a1c9-a4401da7fbb5",
   "metadata": {},
   "outputs": [],
   "source": [
    "sentence = example"
   ]
  },
  {
   "cell_type": "code",
   "execution_count": 19,
   "id": "bd28e530-228c-4598-b2aa-23d6dc74beb3",
   "metadata": {},
   "outputs": [
    {
     "name": "stdout",
     "output_type": "stream",
     "text": [
      "original_sentece: 스릴도있고 반전도 있고 여느 한국영화 쓰레기들하고는 차원이 다르네요~\n",
      "adverb_replacement: 스릴도있고 반전도 있고 여느 한국영화 쓰레기들하고는 차원이 다르네요~\n"
     ]
    }
   ],
   "source": [
    "print('original_sentece:', sentence)\n",
    "print('adverb_replacement:', adverb_gloss_replacement(sentence))"
   ]
  },
  {
   "cell_type": "markdown",
   "id": "e17639c7",
   "metadata": {},
   "source": [
    "## Train Dataset Augmentation"
   ]
  },
  {
   "cell_type": "markdown",
   "id": "513d3f8d",
   "metadata": {},
   "source": [
    "### Practice\n",
    "1. Adverb augmentation 진행 -> 변함 x\n",
    "2. insertion augmentation 진행 -> only"
   ]
  },
  {
   "cell_type": "code",
   "execution_count": 31,
   "id": "c00b6701",
   "metadata": {},
   "outputs": [
    {
     "data": {
      "text/html": [
       "<div>\n",
       "<style scoped>\n",
       "    .dataframe tbody tr th:only-of-type {\n",
       "        vertical-align: middle;\n",
       "    }\n",
       "\n",
       "    .dataframe tbody tr th {\n",
       "        vertical-align: top;\n",
       "    }\n",
       "\n",
       "    .dataframe thead th {\n",
       "        text-align: right;\n",
       "    }\n",
       "</style>\n",
       "<table border=\"1\" class=\"dataframe\">\n",
       "  <thead>\n",
       "    <tr style=\"text-align: right;\">\n",
       "      <th></th>\n",
       "      <th>id</th>\n",
       "      <th>source</th>\n",
       "      <th>sentence_1</th>\n",
       "      <th>sentence_2</th>\n",
       "      <th>label</th>\n",
       "      <th>binary-label</th>\n",
       "    </tr>\n",
       "  </thead>\n",
       "  <tbody>\n",
       "    <tr>\n",
       "      <th>0</th>\n",
       "      <td>boostcamp-sts-v1-train-000</td>\n",
       "      <td>nsmc-sampled</td>\n",
       "      <td>스릴도있고 반전도 있고 여느 한국영화 쓰레기들하고는 차원이 다르네요~</td>\n",
       "      <td>반전도 있고,사랑도 있고재미도있네요.</td>\n",
       "      <td>2.2</td>\n",
       "      <td>0.0</td>\n",
       "    </tr>\n",
       "    <tr>\n",
       "      <th>1</th>\n",
       "      <td>boostcamp-sts-v1-train-001</td>\n",
       "      <td>slack-rtt</td>\n",
       "      <td>앗 제가 접근권한이 없다고 뜹니다;;</td>\n",
       "      <td>오, 액세스 권한이 없다고 합니다.</td>\n",
       "      <td>4.2</td>\n",
       "      <td>1.0</td>\n",
       "    </tr>\n",
       "    <tr>\n",
       "      <th>2</th>\n",
       "      <td>boostcamp-sts-v1-train-002</td>\n",
       "      <td>petition-sampled</td>\n",
       "      <td>주택청약조건 변경해주세요.</td>\n",
       "      <td>주택청약 무주택기준 변경해주세요.</td>\n",
       "      <td>2.4</td>\n",
       "      <td>0.0</td>\n",
       "    </tr>\n",
       "    <tr>\n",
       "      <th>3</th>\n",
       "      <td>boostcamp-sts-v1-train-003</td>\n",
       "      <td>slack-sampled</td>\n",
       "      <td>입사후 처음 대면으로 만나 반가웠습니다.</td>\n",
       "      <td>화상으로만 보다가 리얼로 만나니 정말 반가웠습니다.</td>\n",
       "      <td>3.0</td>\n",
       "      <td>1.0</td>\n",
       "    </tr>\n",
       "    <tr>\n",
       "      <th>4</th>\n",
       "      <td>boostcamp-sts-v1-train-004</td>\n",
       "      <td>slack-sampled</td>\n",
       "      <td>뿌듯뿌듯 하네요!!</td>\n",
       "      <td>꼬옥 실제로 한번 뵈어요 뿌뿌뿌~!~!</td>\n",
       "      <td>0.0</td>\n",
       "      <td>0.0</td>\n",
       "    </tr>\n",
       "    <tr>\n",
       "      <th>5</th>\n",
       "      <td>boostcamp-sts-v1-train-005</td>\n",
       "      <td>nsmc-rtt</td>\n",
       "      <td>오마이가뜨지져스크롸이스트휏</td>\n",
       "      <td>오 마이 갓 지저스 스크론 이스트 팬</td>\n",
       "      <td>2.6</td>\n",
       "      <td>1.0</td>\n",
       "    </tr>\n",
       "    <tr>\n",
       "      <th>6</th>\n",
       "      <td>boostcamp-sts-v1-train-006</td>\n",
       "      <td>slack-rtt</td>\n",
       "      <td>전 암만 찍어도 까만 하늘.. ㅠㅠ</td>\n",
       "      <td>암만 찍어도 하늘은 까맣다.. ㅠㅠ</td>\n",
       "      <td>3.6</td>\n",
       "      <td>1.0</td>\n",
       "    </tr>\n",
       "    <tr>\n",
       "      <th>7</th>\n",
       "      <td>boostcamp-sts-v1-train-007</td>\n",
       "      <td>nsmc-sampled</td>\n",
       "      <td>이렇게 귀여운 쥐들은 처음이네요.ㅎㅎㅎ</td>\n",
       "      <td>이렇게 지겨운 공포영화는 처음..</td>\n",
       "      <td>0.6</td>\n",
       "      <td>0.0</td>\n",
       "    </tr>\n",
       "    <tr>\n",
       "      <th>8</th>\n",
       "      <td>boostcamp-sts-v1-train-008</td>\n",
       "      <td>petition-sampled</td>\n",
       "      <td>미세먼지 해결이 가장 시급한 문제입니다!</td>\n",
       "      <td>가장 시급한 것이 신생아실 관리입니다!!!</td>\n",
       "      <td>0.4</td>\n",
       "      <td>0.0</td>\n",
       "    </tr>\n",
       "    <tr>\n",
       "      <th>9</th>\n",
       "      <td>boostcamp-sts-v1-train-009</td>\n",
       "      <td>petition-sampled</td>\n",
       "      <td>크림하우스 환불조치해주세요.</td>\n",
       "      <td>크림하우스 환불조치할 수 있도록해주세여</td>\n",
       "      <td>4.2</td>\n",
       "      <td>1.0</td>\n",
       "    </tr>\n",
       "  </tbody>\n",
       "</table>\n",
       "</div>"
      ],
      "text/plain": [
       "                           id            source  \\\n",
       "0  boostcamp-sts-v1-train-000      nsmc-sampled   \n",
       "1  boostcamp-sts-v1-train-001         slack-rtt   \n",
       "2  boostcamp-sts-v1-train-002  petition-sampled   \n",
       "3  boostcamp-sts-v1-train-003     slack-sampled   \n",
       "4  boostcamp-sts-v1-train-004     slack-sampled   \n",
       "5  boostcamp-sts-v1-train-005          nsmc-rtt   \n",
       "6  boostcamp-sts-v1-train-006         slack-rtt   \n",
       "7  boostcamp-sts-v1-train-007      nsmc-sampled   \n",
       "8  boostcamp-sts-v1-train-008  petition-sampled   \n",
       "9  boostcamp-sts-v1-train-009  petition-sampled   \n",
       "\n",
       "                               sentence_1                    sentence_2  \\\n",
       "0  스릴도있고 반전도 있고 여느 한국영화 쓰레기들하고는 차원이 다르네요~          반전도 있고,사랑도 있고재미도있네요.   \n",
       "1                    앗 제가 접근권한이 없다고 뜹니다;;           오, 액세스 권한이 없다고 합니다.   \n",
       "2                          주택청약조건 변경해주세요.            주택청약 무주택기준 변경해주세요.   \n",
       "3                  입사후 처음 대면으로 만나 반가웠습니다.  화상으로만 보다가 리얼로 만나니 정말 반가웠습니다.   \n",
       "4                              뿌듯뿌듯 하네요!!         꼬옥 실제로 한번 뵈어요 뿌뿌뿌~!~!   \n",
       "5                          오마이가뜨지져스크롸이스트휏          오 마이 갓 지저스 스크론 이스트 팬   \n",
       "6                     전 암만 찍어도 까만 하늘.. ㅠㅠ           암만 찍어도 하늘은 까맣다.. ㅠㅠ   \n",
       "7                   이렇게 귀여운 쥐들은 처음이네요.ㅎㅎㅎ            이렇게 지겨운 공포영화는 처음..   \n",
       "8                  미세먼지 해결이 가장 시급한 문제입니다!       가장 시급한 것이 신생아실 관리입니다!!!   \n",
       "9                         크림하우스 환불조치해주세요.         크림하우스 환불조치할 수 있도록해주세여   \n",
       "\n",
       "   label  binary-label  \n",
       "0    2.2           0.0  \n",
       "1    4.2           1.0  \n",
       "2    2.4           0.0  \n",
       "3    3.0           1.0  \n",
       "4    0.0           0.0  \n",
       "5    2.6           1.0  \n",
       "6    3.6           1.0  \n",
       "7    0.6           0.0  \n",
       "8    0.4           0.0  \n",
       "9    4.2           1.0  "
      ]
     },
     "execution_count": 31,
     "metadata": {},
     "output_type": "execute_result"
    }
   ],
   "source": [
    "dataset = df.iloc[:10]\n",
    "dataset"
   ]
  },
  {
   "cell_type": "code",
   "execution_count": 32,
   "id": "123c236a",
   "metadata": {},
   "outputs": [
    {
     "name": "stdout",
     "output_type": "stream",
     "text": [
      "                               sentence_1\n",
      "0  스릴도있고 반전도 있고 여느 한국영화 쓰레기들하고는 차원이 다르네요~\n",
      "1                    앗 제가 접근권한이 없다고 뜹니다;;\n",
      "2                          주택청약조건 변경해주세요.\n",
      "3                  입사후 처음 대면으로 만나 반가웠습니다.\n",
      "4                              뿌듯뿌듯 하네요!!\n",
      "5                          오마이가뜨지져스크롸이스트휏\n",
      "6                     전 암만 찍어도 까만 하늘.. ㅠㅠ\n",
      "7                   이렇게 귀여운 쥐들은 처음이네요.ㅎㅎㅎ\n",
      "8                  미세먼지 해결이 가장 시급한 문제입니다!\n",
      "9                         크림하우스 환불조치해주세요.\n",
      "                                      sentence_1_adv\n",
      "0             스릴도있고 반전도 있고 여느 한국영화 쓰레기들하고는 차원이 다르네요~\n",
      "1                               앗 제가 접근권한이 없다고 뜹니다;;\n",
      "2                                     주택청약조건 변경해주세요.\n",
      "3                             입사후 처음 대면으로 만나 반가웠습니다.\n",
      "4                                         뿌듯뿌듯 하네요!!\n",
      "5                                     오마이가뜨지져스크롸이스트휏\n",
      "6  전 주로 뒤에 어도 어야와 함께 쓰여 정도가 매우 심함을 나타낼 때 쓰이는 말 찍어...\n",
      "7                              이렇게 귀여운 쥐들은 처음이네요.ㅎㅎㅎ\n",
      "8                   미세먼지 해결이 여럿 가운데서 으뜸으로 시급한 문제입니다!\n",
      "9                                    크림하우스 환불조치해주세요.\n"
     ]
    },
    {
     "name": "stderr",
     "output_type": "stream",
     "text": [
      "/var/folders/ln/gwgfj86n79l8sgq9_b4m1fpc0000gn/T/ipykernel_7443/195499921.py:1: SettingWithCopyWarning: \n",
      "A value is trying to be set on a copy of a slice from a DataFrame.\n",
      "Try using .loc[row_indexer,col_indexer] = value instead\n",
      "\n",
      "See the caveats in the documentation: https://pandas.pydata.org/pandas-docs/stable/user_guide/indexing.html#returning-a-view-versus-a-copy\n",
      "  dataset['sentence_1_adv'] = dataset['sentence_1'].apply(lambda x: adverb_gloss_replacement(x))\n"
     ]
    }
   ],
   "source": [
    "dataset['sentence_1_adv'] = dataset['sentence_1'].apply(lambda x: adverb_gloss_replacement(x))\n",
    "print(dataset[['sentence_1']])\n",
    "print(dataset[['sentence_1_adv']])"
   ]
  },
  {
   "cell_type": "code",
   "execution_count": 33,
   "id": "fd71b28b",
   "metadata": {},
   "outputs": [
    {
     "name": "stdout",
     "output_type": "stream",
     "text": [
      "                               sentence_1\n",
      "0  스릴도있고 반전도 있고 여느 한국영화 쓰레기들하고는 차원이 다르네요~\n",
      "1                    앗 제가 접근권한이 없다고 뜹니다;;\n",
      "2                          주택청약조건 변경해주세요.\n",
      "3                  입사후 처음 대면으로 만나 반가웠습니다.\n",
      "4                              뿌듯뿌듯 하네요!!\n",
      "5                          오마이가뜨지져스크롸이스트휏\n",
      "6                     전 암만 찍어도 까만 하늘.. ㅠㅠ\n",
      "7                   이렇게 귀여운 쥐들은 처음이네요.ㅎㅎㅎ\n",
      "8                  미세먼지 해결이 가장 시급한 문제입니다!\n",
      "9                         크림하우스 환불조치해주세요.\n",
      "                             sentence_1_bert\n",
      "0  스릴도있고 반전도 있고 여느 한국영화 쓰레기들하고는 차원이 좀 다르네요 ~\n",
      "1                   ; 앗 제가 접근권한이 없다고 뜹니다 ; ;\n",
      "2                             주택청약조건 변경해주세요.\n",
      "3                   입사후 처음 첫 대면으로 만나 반가웠습니다.\n",
      "4                                 뿌듯뿌듯 하네요!!\n",
      "5                             오마이가뜨지져스크롸이스트휏\n",
      "6                     전 암만 찍어도 까만 파란 하늘.. ㅠㅠ\n",
      "7                 이렇게 귀여운 귀여운 쥐들은 처음이네요. ㅎㅎㅎ\n",
      "8                  미세먼지 해결이 가장 먼저 시급한 문제입니다!\n",
      "9                            크림하우스 환불조치해주세요.\n"
     ]
    },
    {
     "name": "stderr",
     "output_type": "stream",
     "text": [
      "/var/folders/ln/gwgfj86n79l8sgq9_b4m1fpc0000gn/T/ipykernel_7443/495411667.py:1: SettingWithCopyWarning: \n",
      "A value is trying to be set on a copy of a slice from a DataFrame.\n",
      "Try using .loc[row_indexer,col_indexer] = value instead\n",
      "\n",
      "See the caveats in the documentation: https://pandas.pydata.org/pandas-docs/stable/user_guide/indexing.html#returning-a-view-versus-a-copy\n",
      "  dataset['sentence_1_bert'] = dataset['sentence_1'].apply(lambda x: random_masking_insertion(x))\n"
     ]
    }
   ],
   "source": [
    "dataset['sentence_1_bert'] = dataset['sentence_1'].apply(lambda x: random_masking_insertion(x))\n",
    "print(dataset[['sentence_1']])\n",
    "print(dataset[['sentence_1_bert']])"
   ]
  },
  {
   "cell_type": "markdown",
   "id": "cf13af06",
   "metadata": {},
   "source": [
    "### Augmentation\n",
    "insertion augmentation만 진행"
   ]
  },
  {
   "cell_type": "code",
   "execution_count": 34,
   "id": "4e0fd89b",
   "metadata": {},
   "outputs": [],
   "source": [
    "df['sentence_1_bert'] = df['sentence_1'].apply(lambda x: random_masking_insertion(x))\n",
    "df['sentence_2_bert'] = df['sentence_2'].apply(lambda x: random_masking_insertion(x))"
   ]
  },
  {
   "cell_type": "code",
   "execution_count": 35,
   "id": "6d779fc7",
   "metadata": {},
   "outputs": [
    {
     "data": {
      "text/html": [
       "<div>\n",
       "<style scoped>\n",
       "    .dataframe tbody tr th:only-of-type {\n",
       "        vertical-align: middle;\n",
       "    }\n",
       "\n",
       "    .dataframe tbody tr th {\n",
       "        vertical-align: top;\n",
       "    }\n",
       "\n",
       "    .dataframe thead th {\n",
       "        text-align: right;\n",
       "    }\n",
       "</style>\n",
       "<table border=\"1\" class=\"dataframe\">\n",
       "  <thead>\n",
       "    <tr style=\"text-align: right;\">\n",
       "      <th></th>\n",
       "      <th>id</th>\n",
       "      <th>source</th>\n",
       "      <th>sentence_1</th>\n",
       "      <th>sentence_2</th>\n",
       "      <th>label</th>\n",
       "      <th>binary-label</th>\n",
       "      <th>sentence_1_bert</th>\n",
       "      <th>sentence_2_bert</th>\n",
       "    </tr>\n",
       "  </thead>\n",
       "  <tbody>\n",
       "    <tr>\n",
       "      <th>0</th>\n",
       "      <td>boostcamp-sts-v1-train-000</td>\n",
       "      <td>nsmc-sampled</td>\n",
       "      <td>스릴도있고 반전도 있고 여느 한국영화 쓰레기들하고는 차원이 다르네요~</td>\n",
       "      <td>반전도 있고,사랑도 있고재미도있네요.</td>\n",
       "      <td>2.2</td>\n",
       "      <td>0.0</td>\n",
       "      <td>스릴도있고 반전도 있고 여느 한국영화 쓰레기들하고는 차원이 좀 다르네요 ~</td>\n",
       "      <td>반전도 있고,사랑도 있고재미도있네요.</td>\n",
       "    </tr>\n",
       "    <tr>\n",
       "      <th>1</th>\n",
       "      <td>boostcamp-sts-v1-train-001</td>\n",
       "      <td>slack-rtt</td>\n",
       "      <td>앗 제가 접근권한이 없다고 뜹니다;;</td>\n",
       "      <td>오, 액세스 권한이 없다고 합니다.</td>\n",
       "      <td>4.2</td>\n",
       "      <td>1.0</td>\n",
       "      <td>앗! 제가 접근권한이 없다고 뜹니다 ; ;</td>\n",
       "      <td>그리고 오, 액세스 권한이 없다고 합니다.</td>\n",
       "    </tr>\n",
       "    <tr>\n",
       "      <th>2</th>\n",
       "      <td>boostcamp-sts-v1-train-002</td>\n",
       "      <td>petition-sampled</td>\n",
       "      <td>주택청약조건 변경해주세요.</td>\n",
       "      <td>주택청약 무주택기준 변경해주세요.</td>\n",
       "      <td>2.4</td>\n",
       "      <td>0.0</td>\n",
       "      <td>주택청약조건 변경해주세요.</td>\n",
       "      <td>주택청약 무주택기준 변경해주세요.</td>\n",
       "    </tr>\n",
       "    <tr>\n",
       "      <th>3</th>\n",
       "      <td>boostcamp-sts-v1-train-003</td>\n",
       "      <td>slack-sampled</td>\n",
       "      <td>입사후 처음 대면으로 만나 반가웠습니다.</td>\n",
       "      <td>화상으로만 보다가 리얼로 만나니 정말 반가웠습니다.</td>\n",
       "      <td>3.0</td>\n",
       "      <td>1.0</td>\n",
       "      <td>회사 입사후 처음 대면으로 만나 반가웠습니다.</td>\n",
       "      <td>화상으로만 보다가 리얼로 다시 만나니 정말 반가웠습니다.</td>\n",
       "    </tr>\n",
       "    <tr>\n",
       "      <th>4</th>\n",
       "      <td>boostcamp-sts-v1-train-004</td>\n",
       "      <td>slack-sampled</td>\n",
       "      <td>뿌듯뿌듯 하네요!!</td>\n",
       "      <td>꼬옥 실제로 한번 뵈어요 뿌뿌뿌~!~!</td>\n",
       "      <td>0.0</td>\n",
       "      <td>0.0</td>\n",
       "      <td>뿌듯뿌듯 하네요!!</td>\n",
       "      <td>꼬옥 ~ 실제로 한번 뵈어요 뿌뿌뿌 ~! ~!</td>\n",
       "    </tr>\n",
       "  </tbody>\n",
       "</table>\n",
       "</div>"
      ],
      "text/plain": [
       "                           id            source  \\\n",
       "0  boostcamp-sts-v1-train-000      nsmc-sampled   \n",
       "1  boostcamp-sts-v1-train-001         slack-rtt   \n",
       "2  boostcamp-sts-v1-train-002  petition-sampled   \n",
       "3  boostcamp-sts-v1-train-003     slack-sampled   \n",
       "4  boostcamp-sts-v1-train-004     slack-sampled   \n",
       "\n",
       "                               sentence_1                    sentence_2  \\\n",
       "0  스릴도있고 반전도 있고 여느 한국영화 쓰레기들하고는 차원이 다르네요~          반전도 있고,사랑도 있고재미도있네요.   \n",
       "1                    앗 제가 접근권한이 없다고 뜹니다;;           오, 액세스 권한이 없다고 합니다.   \n",
       "2                          주택청약조건 변경해주세요.            주택청약 무주택기준 변경해주세요.   \n",
       "3                  입사후 처음 대면으로 만나 반가웠습니다.  화상으로만 보다가 리얼로 만나니 정말 반가웠습니다.   \n",
       "4                              뿌듯뿌듯 하네요!!         꼬옥 실제로 한번 뵈어요 뿌뿌뿌~!~!   \n",
       "\n",
       "   label  binary-label                            sentence_1_bert  \\\n",
       "0    2.2           0.0  스릴도있고 반전도 있고 여느 한국영화 쓰레기들하고는 차원이 좀 다르네요 ~   \n",
       "1    4.2           1.0                    앗! 제가 접근권한이 없다고 뜹니다 ; ;   \n",
       "2    2.4           0.0                             주택청약조건 변경해주세요.   \n",
       "3    3.0           1.0                  회사 입사후 처음 대면으로 만나 반가웠습니다.   \n",
       "4    0.0           0.0                                 뿌듯뿌듯 하네요!!   \n",
       "\n",
       "                   sentence_2_bert  \n",
       "0             반전도 있고,사랑도 있고재미도있네요.  \n",
       "1          그리고 오, 액세스 권한이 없다고 합니다.  \n",
       "2               주택청약 무주택기준 변경해주세요.  \n",
       "3  화상으로만 보다가 리얼로 다시 만나니 정말 반가웠습니다.  \n",
       "4        꼬옥 ~ 실제로 한번 뵈어요 뿌뿌뿌 ~! ~!  "
      ]
     },
     "execution_count": 35,
     "metadata": {},
     "output_type": "execute_result"
    }
   ],
   "source": [
    "df.head()"
   ]
  },
  {
   "cell_type": "code",
   "execution_count": 41,
   "id": "b8010cc5",
   "metadata": {},
   "outputs": [
    {
     "data": {
      "text/plain": [
       "1881"
      ]
     },
     "execution_count": 41,
     "metadata": {},
     "output_type": "execute_result"
    }
   ],
   "source": [
    "same = ((df['sentence_1'] == df['sentence_1_bert']) & (df['sentence_2'] == df['sentence_2_bert'])).sum()\n",
    "same"
   ]
  },
  {
   "cell_type": "code",
   "execution_count": 36,
   "id": "04ab7819",
   "metadata": {},
   "outputs": [
    {
     "name": "stdout",
     "output_type": "stream",
     "text": [
      "                               sentence_1  \\\n",
      "0  스릴도있고 반전도 있고 여느 한국영화 쓰레기들하고는 차원이 다르네요~   \n",
      "1                    앗 제가 접근권한이 없다고 뜹니다;;   \n",
      "2                          주택청약조건 변경해주세요.   \n",
      "3                  입사후 처음 대면으로 만나 반가웠습니다.   \n",
      "4                              뿌듯뿌듯 하네요!!   \n",
      "\n",
      "                             sentence_1_bert  \n",
      "0  스릴도있고 반전도 있고 여느 한국영화 쓰레기들하고는 차원이 좀 다르네요 ~  \n",
      "1                    앗! 제가 접근권한이 없다고 뜹니다 ; ;  \n",
      "2                             주택청약조건 변경해주세요.  \n",
      "3                  회사 입사후 처음 대면으로 만나 반가웠습니다.  \n",
      "4                                 뿌듯뿌듯 하네요!!  \n",
      "                     sentence_2                  sentence_2_bert\n",
      "0          반전도 있고,사랑도 있고재미도있네요.             반전도 있고,사랑도 있고재미도있네요.\n",
      "1           오, 액세스 권한이 없다고 합니다.          그리고 오, 액세스 권한이 없다고 합니다.\n",
      "2            주택청약 무주택기준 변경해주세요.               주택청약 무주택기준 변경해주세요.\n",
      "3  화상으로만 보다가 리얼로 만나니 정말 반가웠습니다.  화상으로만 보다가 리얼로 다시 만나니 정말 반가웠습니다.\n",
      "4         꼬옥 실제로 한번 뵈어요 뿌뿌뿌~!~!        꼬옥 ~ 실제로 한번 뵈어요 뿌뿌뿌 ~! ~!\n"
     ]
    }
   ],
   "source": [
    "group_1 = df[['sentence_1', 'sentence_1_bert']]\n",
    "group_2 = df[['sentence_2', 'sentence_2_bert']]\n",
    "print(group_1.head())\n",
    "print(group_2.head())"
   ]
  },
  {
   "cell_type": "code",
   "execution_count": 38,
   "id": "51dedfff",
   "metadata": {},
   "outputs": [
    {
     "name": "stdout",
     "output_type": "stream",
     "text": [
      "3274\n",
      "0.3511368511368511\n"
     ]
    }
   ],
   "source": [
    "cnt_1 = (df['sentence_1'] == df['sentence_1_bert']).sum()\n",
    "print(cnt_1)\n",
    "print(cnt_1/len(df))"
   ]
  },
  {
   "cell_type": "code",
   "execution_count": 39,
   "id": "02226a95",
   "metadata": {},
   "outputs": [
    {
     "name": "stdout",
     "output_type": "stream",
     "text": [
      "2752\n",
      "0.29515229515229513\n"
     ]
    }
   ],
   "source": [
    "cnt_2 = (df['sentence_2'] == df['sentence_2_bert']).sum()\n",
    "print(cnt_2)\n",
    "print(cnt_2/len(df))"
   ]
  }
 ],
 "metadata": {
  "kernelspec": {
   "display_name": "3.12.4",
   "language": "python",
   "name": "python3"
  },
  "language_info": {
   "codemirror_mode": {
    "name": "ipython",
    "version": 3
   },
   "file_extension": ".py",
   "mimetype": "text/x-python",
   "name": "python",
   "nbconvert_exporter": "python",
   "pygments_lexer": "ipython3",
   "version": "3.12.4"
  }
 },
 "nbformat": 4,
 "nbformat_minor": 5
}
