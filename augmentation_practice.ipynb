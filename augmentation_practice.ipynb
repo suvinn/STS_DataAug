{
 "cells": [
  {
   "cell_type": "code",
   "execution_count": 1,
   "id": "3f6d8273-0de9-48e7-ab4f-c2e5638bb669",
   "metadata": {},
   "outputs": [
    {
     "name": "stderr",
     "output_type": "stream",
     "text": [
      "/Users/suvin/.pyenv/versions/3.12.4/lib/python3.12/site-packages/tqdm/auto.py:21: TqdmWarning: IProgress not found. Please update jupyter and ipywidgets. See https://ipywidgets.readthedocs.io/en/stable/user_install.html\n",
      "  from .autonotebook import tqdm as notebook_tqdm\n"
     ]
    }
   ],
   "source": [
    "import pandas as pd\n",
    "from BERT_augmentation import BERT_Augmentation\n",
    "from adverb_augmentation import AdverbAugmentation\n",
    "import transformers"
   ]
  },
  {
   "cell_type": "markdown",
   "id": "8802dca3",
   "metadata": {},
   "source": [
    "## Train Data Load"
   ]
  },
  {
   "cell_type": "code",
   "execution_count": 2,
   "id": "7d752c85",
   "metadata": {},
   "outputs": [],
   "source": [
    "df = pd.read_csv('train.csv')"
   ]
  },
  {
   "cell_type": "code",
   "execution_count": 3,
   "id": "9a68a606",
   "metadata": {},
   "outputs": [
    {
     "data": {
      "text/plain": [
       "id                          boostcamp-sts-v1-train-000\n",
       "source                                    nsmc-sampled\n",
       "sentence_1      스릴도있고 반전도 있고 여느 한국영화 쓰레기들하고는 차원이 다르네요~\n",
       "sentence_2                        반전도 있고,사랑도 있고재미도있네요.\n",
       "label                                              2.2\n",
       "binary-label                                       0.0\n",
       "Name: 0, dtype: object"
      ]
     },
     "execution_count": 3,
     "metadata": {},
     "output_type": "execute_result"
    }
   ],
   "source": [
    "df.iloc[0]"
   ]
  },
  {
   "cell_type": "code",
   "execution_count": 4,
   "id": "aecee5b3",
   "metadata": {},
   "outputs": [
    {
     "data": {
      "text/plain": [
       "'스릴도있고 반전도 있고 여느 한국영화 쓰레기들하고는 차원이 다르네요~'"
      ]
     },
     "execution_count": 4,
     "metadata": {},
     "output_type": "execute_result"
    }
   ],
   "source": [
    "example = df.iloc[0]['sentence_1']\n",
    "example"
   ]
  },
  {
   "cell_type": "markdown",
   "id": "7237afb4-e905-42ab-9e35-4e99242b4ba8",
   "metadata": {},
   "source": [
    "## BERT augmentation\n",
    "Random Insertion Replacement"
   ]
  },
  {
   "cell_type": "code",
   "execution_count": 5,
   "id": "98f6be27-3445-4bdd-ba5a-e29f06498477",
   "metadata": {},
   "outputs": [
    {
     "name": "stderr",
     "output_type": "stream",
     "text": [
      "/Users/suvin/.pyenv/versions/3.12.4/lib/python3.12/site-packages/transformers/tokenization_utils_base.py:1601: FutureWarning: `clean_up_tokenization_spaces` was not set. It will be set to `True` by default. This behavior will be depracted in transformers v4.45, and will be then set to `False` by default. For more details check this issue: https://github.com/huggingface/transformers/issues/31884\n",
      "  warnings.warn(\n",
      "Hardware accelerator e.g. GPU is available in the environment, but no `device` argument is passed to the `Pipeline` object. Model will be on CPU.\n"
     ]
    }
   ],
   "source": [
    "BERT_aug = BERT_Augmentation()\n",
    "random_masking_insertion = BERT_aug.random_masking_insertion"
   ]
  },
  {
   "cell_type": "code",
   "execution_count": 6,
   "id": "8c81422c-9f0c-4965-ad4c-571af4304fbd",
   "metadata": {},
   "outputs": [],
   "source": [
    "sentence = example\n",
    "ratio = 0.15"
   ]
  },
  {
   "cell_type": "code",
   "execution_count": 7,
   "id": "960cc219-aa14-44f9-a1fb-494c3c3617d4",
   "metadata": {},
   "outputs": [
    {
     "name": "stdout",
     "output_type": "stream",
     "text": [
      "original_sentece: 스릴도있고 반전도 있고 여느 한국영화 쓰레기들하고는 차원이 다르네요~\n",
      "insertion_replacement: 스릴도있고, 반전도 있고 여느 한국영화 쓰레기들하고는 차원이 다르네요 ~\n"
     ]
    }
   ],
   "source": [
    "print('original_sentece:', sentence)\n",
    "print('insertion_replacement:', random_masking_insertion(sentence, ratio))"
   ]
  },
  {
   "cell_type": "markdown",
   "id": "c079b51c-400b-4773-a84b-cfc1219146a9",
   "metadata": {},
   "source": [
    "## Adverb augmentation"
   ]
  },
  {
   "cell_type": "code",
   "execution_count": 8,
   "id": "59d6ed1d-4141-4fc3-82f1-3a57cb2bb5e8",
   "metadata": {},
   "outputs": [],
   "source": [
    "adverb_aug = AdverbAugmentation()\n",
    "adverb_gloss_replacement = adverb_aug.adverb_gloss_replacement"
   ]
  },
  {
   "cell_type": "code",
   "execution_count": 9,
   "id": "802c3abd-ed68-4a3d-a1c9-a4401da7fbb5",
   "metadata": {},
   "outputs": [],
   "source": [
    "sentence = example"
   ]
  },
  {
   "cell_type": "code",
   "execution_count": 10,
   "id": "bd28e530-228c-4598-b2aa-23d6dc74beb3",
   "metadata": {},
   "outputs": [
    {
     "name": "stdout",
     "output_type": "stream",
     "text": [
      "original_sentece: 스릴도있고 반전도 있고 여느 한국영화 쓰레기들하고는 차원이 다르네요~\n",
      "adverb_replacement: 스릴도있고 반전도 있고 여느 한국영화 쓰레기들하고는 차원이 다르네요~\n"
     ]
    }
   ],
   "source": [
    "print('original_sentece:', sentence)\n",
    "print('adverb_replacement:', adverb_gloss_replacement(sentence))"
   ]
  },
  {
   "cell_type": "markdown",
   "id": "e17639c7",
   "metadata": {},
   "source": [
    "## Train Dataset Augmentation"
   ]
  },
  {
   "cell_type": "markdown",
   "id": "513d3f8d",
   "metadata": {},
   "source": [
    "### Practice\n",
    "1. Adverb augmentation 진행\n",
    "2. insertion augmentation 진행"
   ]
  },
  {
   "cell_type": "code",
   "execution_count": 13,
   "id": "123c236a",
   "metadata": {},
   "outputs": [
    {
     "data": {
      "text/html": [
       "<div>\n",
       "<style scoped>\n",
       "    .dataframe tbody tr th:only-of-type {\n",
       "        vertical-align: middle;\n",
       "    }\n",
       "\n",
       "    .dataframe tbody tr th {\n",
       "        vertical-align: top;\n",
       "    }\n",
       "\n",
       "    .dataframe thead th {\n",
       "        text-align: right;\n",
       "    }\n",
       "</style>\n",
       "<table border=\"1\" class=\"dataframe\">\n",
       "  <thead>\n",
       "    <tr style=\"text-align: right;\">\n",
       "      <th></th>\n",
       "      <th>id</th>\n",
       "      <th>source</th>\n",
       "      <th>sentence_1</th>\n",
       "      <th>sentence_2</th>\n",
       "      <th>label</th>\n",
       "      <th>binary-label</th>\n",
       "      <th>sentence_1_adv</th>\n",
       "      <th>sentence_2_adv</th>\n",
       "    </tr>\n",
       "  </thead>\n",
       "  <tbody>\n",
       "    <tr>\n",
       "      <th>0</th>\n",
       "      <td>boostcamp-sts-v1-train-000</td>\n",
       "      <td>nsmc-sampled</td>\n",
       "      <td>스릴도있고 반전도 있고 여느 한국영화 쓰레기들하고는 차원이 다르네요~</td>\n",
       "      <td>반전도 있고,사랑도 있고재미도있네요.</td>\n",
       "      <td>2.2</td>\n",
       "      <td>0.0</td>\n",
       "      <td>스릴도있고 반전도 있고 여느 한국영화 쓰레기들하고는 차원이 다르네요~</td>\n",
       "      <td>반전도 있고,사랑도 있고재미도있네요.</td>\n",
       "    </tr>\n",
       "    <tr>\n",
       "      <th>1</th>\n",
       "      <td>boostcamp-sts-v1-train-001</td>\n",
       "      <td>slack-rtt</td>\n",
       "      <td>앗 제가 접근권한이 없다고 뜹니다;;</td>\n",
       "      <td>오, 액세스 권한이 없다고 합니다.</td>\n",
       "      <td>4.2</td>\n",
       "      <td>1.0</td>\n",
       "      <td>앗 제가 접근권한이 없다고 뜹니다;;</td>\n",
       "      <td>오, 액세스 권한이 없다고 합니다.</td>\n",
       "    </tr>\n",
       "    <tr>\n",
       "      <th>2</th>\n",
       "      <td>boostcamp-sts-v1-train-002</td>\n",
       "      <td>petition-sampled</td>\n",
       "      <td>주택청약조건 변경해주세요.</td>\n",
       "      <td>주택청약 무주택기준 변경해주세요.</td>\n",
       "      <td>2.4</td>\n",
       "      <td>0.0</td>\n",
       "      <td>주택청약조건 변경해주세요.</td>\n",
       "      <td>주택청약 무주택기준 변경해주세요.</td>\n",
       "    </tr>\n",
       "    <tr>\n",
       "      <th>3</th>\n",
       "      <td>boostcamp-sts-v1-train-003</td>\n",
       "      <td>slack-sampled</td>\n",
       "      <td>입사후 처음 대면으로 만나 반가웠습니다.</td>\n",
       "      <td>화상으로만 보다가 리얼로 만나니 정말 반가웠습니다.</td>\n",
       "      <td>3.0</td>\n",
       "      <td>1.0</td>\n",
       "      <td>입사후 처음 대면으로 만나 반가웠습니다.</td>\n",
       "      <td>화상으로만 보다가 리얼로 만나니 거짓이 없이 진실함 반가웠습니다.</td>\n",
       "    </tr>\n",
       "    <tr>\n",
       "      <th>4</th>\n",
       "      <td>boostcamp-sts-v1-train-004</td>\n",
       "      <td>slack-sampled</td>\n",
       "      <td>뿌듯뿌듯 하네요!!</td>\n",
       "      <td>꼬옥 실제로 한번 뵈어요 뿌뿌뿌~!~!</td>\n",
       "      <td>0.0</td>\n",
       "      <td>0.0</td>\n",
       "      <td>뿌듯뿌듯 하네요!!</td>\n",
       "      <td>꼬옥 거짓이나 상상이 아닌 정말로 있는 그대로 한번 뵈어요 뿌뿌뿌~!~!</td>\n",
       "    </tr>\n",
       "    <tr>\n",
       "      <th>...</th>\n",
       "      <td>...</td>\n",
       "      <td>...</td>\n",
       "      <td>...</td>\n",
       "      <td>...</td>\n",
       "      <td>...</td>\n",
       "      <td>...</td>\n",
       "      <td>...</td>\n",
       "      <td>...</td>\n",
       "    </tr>\n",
       "    <tr>\n",
       "      <th>9319</th>\n",
       "      <td>boostcamp-sts-v1-train-9319</td>\n",
       "      <td>petition-sampled</td>\n",
       "      <td>교원능력개발평가에서 교원이 보호받을 수 있는 장치를 마련해야합니다</td>\n",
       "      <td>본인이 납부한 국민연금 금액을 기준으로 대출을 받을 수 있는 제도를 마련해 주세요</td>\n",
       "      <td>0.2</td>\n",
       "      <td>0.0</td>\n",
       "      <td>교원능력개발평가에서 교원이 보호받을 수 있는 장치를 마련해야합니다</td>\n",
       "      <td>본인이 납부한 국민연금 금액을 기준으로 대출을 받을 수 있는 제도를 마련해 주세요</td>\n",
       "    </tr>\n",
       "    <tr>\n",
       "      <th>9320</th>\n",
       "      <td>boostcamp-sts-v1-train-9320</td>\n",
       "      <td>petition-sampled</td>\n",
       "      <td>여성가족부의 폐지를 원합니드</td>\n",
       "      <td>여성가족부 폐지를 청원 합니다.</td>\n",
       "      <td>4.2</td>\n",
       "      <td>1.0</td>\n",
       "      <td>여성가족부의 폐지를 원합니드</td>\n",
       "      <td>여성가족부 폐지를 청원 합니다.</td>\n",
       "    </tr>\n",
       "    <tr>\n",
       "      <th>9321</th>\n",
       "      <td>boostcamp-sts-v1-train-9321</td>\n",
       "      <td>petition-sampled</td>\n",
       "      <td>국회의원들 월급좀 줄여주세요</td>\n",
       "      <td>공무원 봉급좀 줄이지좀 마세요</td>\n",
       "      <td>0.6</td>\n",
       "      <td>0.0</td>\n",
       "      <td>국회의원들 월급좀 줄여주세요</td>\n",
       "      <td>공무원 봉급좀 줄이지좀 마세요</td>\n",
       "    </tr>\n",
       "    <tr>\n",
       "      <th>9322</th>\n",
       "      <td>boostcamp-sts-v1-train-9322</td>\n",
       "      <td>slack-sampled</td>\n",
       "      <td>오늘 못한 점심은 다음에 다시 츄라이 하기로 해요!!</td>\n",
       "      <td>오늘 못먹은 밥은 꼭 담에 먹기로 하고요!!</td>\n",
       "      <td>3.2</td>\n",
       "      <td>1.0</td>\n",
       "      <td>오늘 못한 점심은 다음에 이전 상태나 행동이 그쳤다가 이어지면서 새로이 또 츄라이 ...</td>\n",
       "      <td>지금 시간이 흐르고 있는 이 날 못먹은 밥은 꼭 담에 먹기로 하고요!!</td>\n",
       "    </tr>\n",
       "    <tr>\n",
       "      <th>9323</th>\n",
       "      <td>boostcamp-sts-v1-train-9323</td>\n",
       "      <td>petition-sampled</td>\n",
       "      <td>법정공휴일 휴무관련 (근로자)</td>\n",
       "      <td>법정공휴일의 유급휴무화를 막아야 합니다.</td>\n",
       "      <td>1.4</td>\n",
       "      <td>0.0</td>\n",
       "      <td>법정공휴일 휴무관련 (근로자)</td>\n",
       "      <td>법정공휴일의 유급휴무화를 막아야 합니다.</td>\n",
       "    </tr>\n",
       "  </tbody>\n",
       "</table>\n",
       "<p>9324 rows × 8 columns</p>\n",
       "</div>"
      ],
      "text/plain": [
       "                               id            source  \\\n",
       "0      boostcamp-sts-v1-train-000      nsmc-sampled   \n",
       "1      boostcamp-sts-v1-train-001         slack-rtt   \n",
       "2      boostcamp-sts-v1-train-002  petition-sampled   \n",
       "3      boostcamp-sts-v1-train-003     slack-sampled   \n",
       "4      boostcamp-sts-v1-train-004     slack-sampled   \n",
       "...                           ...               ...   \n",
       "9319  boostcamp-sts-v1-train-9319  petition-sampled   \n",
       "9320  boostcamp-sts-v1-train-9320  petition-sampled   \n",
       "9321  boostcamp-sts-v1-train-9321  petition-sampled   \n",
       "9322  boostcamp-sts-v1-train-9322     slack-sampled   \n",
       "9323  boostcamp-sts-v1-train-9323  petition-sampled   \n",
       "\n",
       "                                  sentence_1  \\\n",
       "0     스릴도있고 반전도 있고 여느 한국영화 쓰레기들하고는 차원이 다르네요~   \n",
       "1                       앗 제가 접근권한이 없다고 뜹니다;;   \n",
       "2                             주택청약조건 변경해주세요.   \n",
       "3                     입사후 처음 대면으로 만나 반가웠습니다.   \n",
       "4                                 뿌듯뿌듯 하네요!!   \n",
       "...                                      ...   \n",
       "9319    교원능력개발평가에서 교원이 보호받을 수 있는 장치를 마련해야합니다   \n",
       "9320                         여성가족부의 폐지를 원합니드   \n",
       "9321                         국회의원들 월급좀 줄여주세요   \n",
       "9322           오늘 못한 점심은 다음에 다시 츄라이 하기로 해요!!   \n",
       "9323                        법정공휴일 휴무관련 (근로자)   \n",
       "\n",
       "                                         sentence_2  label  binary-label  \\\n",
       "0                              반전도 있고,사랑도 있고재미도있네요.    2.2           0.0   \n",
       "1                               오, 액세스 권한이 없다고 합니다.    4.2           1.0   \n",
       "2                                주택청약 무주택기준 변경해주세요.    2.4           0.0   \n",
       "3                      화상으로만 보다가 리얼로 만나니 정말 반가웠습니다.    3.0           1.0   \n",
       "4                             꼬옥 실제로 한번 뵈어요 뿌뿌뿌~!~!    0.0           0.0   \n",
       "...                                             ...    ...           ...   \n",
       "9319  본인이 납부한 국민연금 금액을 기준으로 대출을 받을 수 있는 제도를 마련해 주세요    0.2           0.0   \n",
       "9320                              여성가족부 폐지를 청원 합니다.    4.2           1.0   \n",
       "9321                               공무원 봉급좀 줄이지좀 마세요    0.6           0.0   \n",
       "9322                       오늘 못먹은 밥은 꼭 담에 먹기로 하고요!!    3.2           1.0   \n",
       "9323                         법정공휴일의 유급휴무화를 막아야 합니다.    1.4           0.0   \n",
       "\n",
       "                                         sentence_1_adv  \\\n",
       "0                스릴도있고 반전도 있고 여느 한국영화 쓰레기들하고는 차원이 다르네요~   \n",
       "1                                  앗 제가 접근권한이 없다고 뜹니다;;   \n",
       "2                                        주택청약조건 변경해주세요.   \n",
       "3                                입사후 처음 대면으로 만나 반가웠습니다.   \n",
       "4                                            뿌듯뿌듯 하네요!!   \n",
       "...                                                 ...   \n",
       "9319               교원능력개발평가에서 교원이 보호받을 수 있는 장치를 마련해야합니다   \n",
       "9320                                    여성가족부의 폐지를 원합니드   \n",
       "9321                                    국회의원들 월급좀 줄여주세요   \n",
       "9322  오늘 못한 점심은 다음에 이전 상태나 행동이 그쳤다가 이어지면서 새로이 또 츄라이 ...   \n",
       "9323                                   법정공휴일 휴무관련 (근로자)   \n",
       "\n",
       "                                     sentence_2_adv  \n",
       "0                              반전도 있고,사랑도 있고재미도있네요.  \n",
       "1                               오, 액세스 권한이 없다고 합니다.  \n",
       "2                                주택청약 무주택기준 변경해주세요.  \n",
       "3              화상으로만 보다가 리얼로 만나니 거짓이 없이 진실함 반가웠습니다.  \n",
       "4          꼬옥 거짓이나 상상이 아닌 정말로 있는 그대로 한번 뵈어요 뿌뿌뿌~!~!  \n",
       "...                                             ...  \n",
       "9319  본인이 납부한 국민연금 금액을 기준으로 대출을 받을 수 있는 제도를 마련해 주세요  \n",
       "9320                              여성가족부 폐지를 청원 합니다.  \n",
       "9321                               공무원 봉급좀 줄이지좀 마세요  \n",
       "9322        지금 시간이 흐르고 있는 이 날 못먹은 밥은 꼭 담에 먹기로 하고요!!  \n",
       "9323                         법정공휴일의 유급휴무화를 막아야 합니다.  \n",
       "\n",
       "[9324 rows x 8 columns]"
      ]
     },
     "execution_count": 13,
     "metadata": {},
     "output_type": "execute_result"
    }
   ],
   "source": [
    "df['sentence_1_adv'] = df['sentence_1'].apply(lambda x: adverb_gloss_replacement(x))\n",
    "df['sentence_2_adv'] = df['sentence_2'].apply(lambda x: adverb_gloss_replacement(x))\n",
    "df"
   ]
  },
  {
   "cell_type": "code",
   "execution_count": 14,
   "id": "1809aed5",
   "metadata": {},
   "outputs": [
    {
     "name": "stdout",
     "output_type": "stream",
     "text": [
      "6447 6403 5252\n"
     ]
    }
   ],
   "source": [
    "same_1 = (df['sentence_1'] == df['sentence_1_adv']).sum()\n",
    "same_2 = (df['sentence_2'] == df['sentence_2_adv']).sum()\n",
    "same = ((df['sentence_1'] == df['sentence_1_adv']) & (df['sentence_2'] == df['sentence_2_adv'])).sum()\n",
    "print(same_1, same_2, same)"
   ]
  },
  {
   "cell_type": "code",
   "execution_count": 15,
   "id": "0afc4598",
   "metadata": {},
   "outputs": [
    {
     "data": {
      "text/html": [
       "<div>\n",
       "<style scoped>\n",
       "    .dataframe tbody tr th:only-of-type {\n",
       "        vertical-align: middle;\n",
       "    }\n",
       "\n",
       "    .dataframe tbody tr th {\n",
       "        vertical-align: top;\n",
       "    }\n",
       "\n",
       "    .dataframe thead th {\n",
       "        text-align: right;\n",
       "    }\n",
       "</style>\n",
       "<table border=\"1\" class=\"dataframe\">\n",
       "  <thead>\n",
       "    <tr style=\"text-align: right;\">\n",
       "      <th></th>\n",
       "      <th>id</th>\n",
       "      <th>source</th>\n",
       "      <th>sentence_1</th>\n",
       "      <th>sentence_2</th>\n",
       "      <th>label</th>\n",
       "      <th>binary-label</th>\n",
       "      <th>sentence_1_adv</th>\n",
       "      <th>sentence_2_adv</th>\n",
       "    </tr>\n",
       "  </thead>\n",
       "  <tbody>\n",
       "    <tr>\n",
       "      <th>0</th>\n",
       "      <td>boostcamp-sts-v1-train-000</td>\n",
       "      <td>nsmc-sampled</td>\n",
       "      <td>스릴도있고 반전도 있고 여느 한국영화 쓰레기들하고는 차원이 다르네요~</td>\n",
       "      <td>반전도 있고,사랑도 있고재미도있네요.</td>\n",
       "      <td>2.2</td>\n",
       "      <td>0.0</td>\n",
       "      <td>스릴도있고 반전도 있고 여느 한국영화 쓰레기들하고는 차원이 다르네요~</td>\n",
       "      <td>반전도 있고,사랑도 있고재미도있네요.</td>\n",
       "    </tr>\n",
       "    <tr>\n",
       "      <th>1</th>\n",
       "      <td>boostcamp-sts-v1-train-001</td>\n",
       "      <td>slack-rtt</td>\n",
       "      <td>앗 제가 접근권한이 없다고 뜹니다;;</td>\n",
       "      <td>오, 액세스 권한이 없다고 합니다.</td>\n",
       "      <td>4.2</td>\n",
       "      <td>1.0</td>\n",
       "      <td>앗 제가 접근권한이 없다고 뜹니다;;</td>\n",
       "      <td>오, 액세스 권한이 없다고 합니다.</td>\n",
       "    </tr>\n",
       "    <tr>\n",
       "      <th>2</th>\n",
       "      <td>boostcamp-sts-v1-train-002</td>\n",
       "      <td>petition-sampled</td>\n",
       "      <td>주택청약조건 변경해주세요.</td>\n",
       "      <td>주택청약 무주택기준 변경해주세요.</td>\n",
       "      <td>2.4</td>\n",
       "      <td>0.0</td>\n",
       "      <td>주택청약조건 변경해주세요.</td>\n",
       "      <td>주택청약 무주택기준 변경해주세요.</td>\n",
       "    </tr>\n",
       "    <tr>\n",
       "      <th>3</th>\n",
       "      <td>boostcamp-sts-v1-train-003</td>\n",
       "      <td>slack-sampled</td>\n",
       "      <td>입사후 처음 대면으로 만나 반가웠습니다.</td>\n",
       "      <td>화상으로만 보다가 리얼로 만나니 정말 반가웠습니다.</td>\n",
       "      <td>3.0</td>\n",
       "      <td>1.0</td>\n",
       "      <td>입사후 처음 대면으로 만나 반가웠습니다.</td>\n",
       "      <td>화상으로만 보다가 리얼로 만나니 거짓이 없이 진실함 반가웠습니다.</td>\n",
       "    </tr>\n",
       "    <tr>\n",
       "      <th>4</th>\n",
       "      <td>boostcamp-sts-v1-train-004</td>\n",
       "      <td>slack-sampled</td>\n",
       "      <td>뿌듯뿌듯 하네요!!</td>\n",
       "      <td>꼬옥 실제로 한번 뵈어요 뿌뿌뿌~!~!</td>\n",
       "      <td>0.0</td>\n",
       "      <td>0.0</td>\n",
       "      <td>뿌듯뿌듯 하네요!!</td>\n",
       "      <td>꼬옥 거짓이나 상상이 아닌 정말로 있는 그대로 한번 뵈어요 뿌뿌뿌~!~!</td>\n",
       "    </tr>\n",
       "    <tr>\n",
       "      <th>...</th>\n",
       "      <td>...</td>\n",
       "      <td>...</td>\n",
       "      <td>...</td>\n",
       "      <td>...</td>\n",
       "      <td>...</td>\n",
       "      <td>...</td>\n",
       "      <td>...</td>\n",
       "      <td>...</td>\n",
       "    </tr>\n",
       "    <tr>\n",
       "      <th>9319</th>\n",
       "      <td>boostcamp-sts-v1-train-9319</td>\n",
       "      <td>petition-sampled</td>\n",
       "      <td>교원능력개발평가에서 교원이 보호받을 수 있는 장치를 마련해야합니다</td>\n",
       "      <td>본인이 납부한 국민연금 금액을 기준으로 대출을 받을 수 있는 제도를 마련해 주세요</td>\n",
       "      <td>0.2</td>\n",
       "      <td>0.0</td>\n",
       "      <td>교원능력개발평가에서 교원이 보호받을 수 있는 장치를 마련해야합니다</td>\n",
       "      <td>본인이 납부한 국민연금 금액을 기준으로 대출을 받을 수 있는 제도를 마련해 주세요</td>\n",
       "    </tr>\n",
       "    <tr>\n",
       "      <th>9320</th>\n",
       "      <td>boostcamp-sts-v1-train-9320</td>\n",
       "      <td>petition-sampled</td>\n",
       "      <td>여성가족부의 폐지를 원합니드</td>\n",
       "      <td>여성가족부 폐지를 청원 합니다.</td>\n",
       "      <td>4.2</td>\n",
       "      <td>1.0</td>\n",
       "      <td>여성가족부의 폐지를 원합니드</td>\n",
       "      <td>여성가족부 폐지를 청원 합니다.</td>\n",
       "    </tr>\n",
       "    <tr>\n",
       "      <th>9321</th>\n",
       "      <td>boostcamp-sts-v1-train-9321</td>\n",
       "      <td>petition-sampled</td>\n",
       "      <td>국회의원들 월급좀 줄여주세요</td>\n",
       "      <td>공무원 봉급좀 줄이지좀 마세요</td>\n",
       "      <td>0.6</td>\n",
       "      <td>0.0</td>\n",
       "      <td>국회의원들 월급좀 줄여주세요</td>\n",
       "      <td>공무원 봉급좀 줄이지좀 마세요</td>\n",
       "    </tr>\n",
       "    <tr>\n",
       "      <th>9322</th>\n",
       "      <td>boostcamp-sts-v1-train-9322</td>\n",
       "      <td>slack-sampled</td>\n",
       "      <td>오늘 못한 점심은 다음에 다시 츄라이 하기로 해요!!</td>\n",
       "      <td>오늘 못먹은 밥은 꼭 담에 먹기로 하고요!!</td>\n",
       "      <td>3.2</td>\n",
       "      <td>1.0</td>\n",
       "      <td>오늘 못한 점심은 다음에 이전 상태나 행동이 그쳤다가 이어지면서 새로이 또 츄라이 ...</td>\n",
       "      <td>지금 시간이 흐르고 있는 이 날 못먹은 밥은 꼭 담에 먹기로 하고요!!</td>\n",
       "    </tr>\n",
       "    <tr>\n",
       "      <th>9323</th>\n",
       "      <td>boostcamp-sts-v1-train-9323</td>\n",
       "      <td>petition-sampled</td>\n",
       "      <td>법정공휴일 휴무관련 (근로자)</td>\n",
       "      <td>법정공휴일의 유급휴무화를 막아야 합니다.</td>\n",
       "      <td>1.4</td>\n",
       "      <td>0.0</td>\n",
       "      <td>법정공휴일 휴무관련 (근로자)</td>\n",
       "      <td>법정공휴일의 유급휴무화를 막아야 합니다.</td>\n",
       "    </tr>\n",
       "  </tbody>\n",
       "</table>\n",
       "<p>9324 rows × 8 columns</p>\n",
       "</div>"
      ],
      "text/plain": [
       "                               id            source  \\\n",
       "0      boostcamp-sts-v1-train-000      nsmc-sampled   \n",
       "1      boostcamp-sts-v1-train-001         slack-rtt   \n",
       "2      boostcamp-sts-v1-train-002  petition-sampled   \n",
       "3      boostcamp-sts-v1-train-003     slack-sampled   \n",
       "4      boostcamp-sts-v1-train-004     slack-sampled   \n",
       "...                           ...               ...   \n",
       "9319  boostcamp-sts-v1-train-9319  petition-sampled   \n",
       "9320  boostcamp-sts-v1-train-9320  petition-sampled   \n",
       "9321  boostcamp-sts-v1-train-9321  petition-sampled   \n",
       "9322  boostcamp-sts-v1-train-9322     slack-sampled   \n",
       "9323  boostcamp-sts-v1-train-9323  petition-sampled   \n",
       "\n",
       "                                  sentence_1  \\\n",
       "0     스릴도있고 반전도 있고 여느 한국영화 쓰레기들하고는 차원이 다르네요~   \n",
       "1                       앗 제가 접근권한이 없다고 뜹니다;;   \n",
       "2                             주택청약조건 변경해주세요.   \n",
       "3                     입사후 처음 대면으로 만나 반가웠습니다.   \n",
       "4                                 뿌듯뿌듯 하네요!!   \n",
       "...                                      ...   \n",
       "9319    교원능력개발평가에서 교원이 보호받을 수 있는 장치를 마련해야합니다   \n",
       "9320                         여성가족부의 폐지를 원합니드   \n",
       "9321                         국회의원들 월급좀 줄여주세요   \n",
       "9322           오늘 못한 점심은 다음에 다시 츄라이 하기로 해요!!   \n",
       "9323                        법정공휴일 휴무관련 (근로자)   \n",
       "\n",
       "                                         sentence_2  label  binary-label  \\\n",
       "0                              반전도 있고,사랑도 있고재미도있네요.    2.2           0.0   \n",
       "1                               오, 액세스 권한이 없다고 합니다.    4.2           1.0   \n",
       "2                                주택청약 무주택기준 변경해주세요.    2.4           0.0   \n",
       "3                      화상으로만 보다가 리얼로 만나니 정말 반가웠습니다.    3.0           1.0   \n",
       "4                             꼬옥 실제로 한번 뵈어요 뿌뿌뿌~!~!    0.0           0.0   \n",
       "...                                             ...    ...           ...   \n",
       "9319  본인이 납부한 국민연금 금액을 기준으로 대출을 받을 수 있는 제도를 마련해 주세요    0.2           0.0   \n",
       "9320                              여성가족부 폐지를 청원 합니다.    4.2           1.0   \n",
       "9321                               공무원 봉급좀 줄이지좀 마세요    0.6           0.0   \n",
       "9322                       오늘 못먹은 밥은 꼭 담에 먹기로 하고요!!    3.2           1.0   \n",
       "9323                         법정공휴일의 유급휴무화를 막아야 합니다.    1.4           0.0   \n",
       "\n",
       "                                         sentence_1_adv  \\\n",
       "0                스릴도있고 반전도 있고 여느 한국영화 쓰레기들하고는 차원이 다르네요~   \n",
       "1                                  앗 제가 접근권한이 없다고 뜹니다;;   \n",
       "2                                        주택청약조건 변경해주세요.   \n",
       "3                                입사후 처음 대면으로 만나 반가웠습니다.   \n",
       "4                                            뿌듯뿌듯 하네요!!   \n",
       "...                                                 ...   \n",
       "9319               교원능력개발평가에서 교원이 보호받을 수 있는 장치를 마련해야합니다   \n",
       "9320                                    여성가족부의 폐지를 원합니드   \n",
       "9321                                    국회의원들 월급좀 줄여주세요   \n",
       "9322  오늘 못한 점심은 다음에 이전 상태나 행동이 그쳤다가 이어지면서 새로이 또 츄라이 ...   \n",
       "9323                                   법정공휴일 휴무관련 (근로자)   \n",
       "\n",
       "                                     sentence_2_adv  \n",
       "0                              반전도 있고,사랑도 있고재미도있네요.  \n",
       "1                               오, 액세스 권한이 없다고 합니다.  \n",
       "2                                주택청약 무주택기준 변경해주세요.  \n",
       "3              화상으로만 보다가 리얼로 만나니 거짓이 없이 진실함 반가웠습니다.  \n",
       "4          꼬옥 거짓이나 상상이 아닌 정말로 있는 그대로 한번 뵈어요 뿌뿌뿌~!~!  \n",
       "...                                             ...  \n",
       "9319  본인이 납부한 국민연금 금액을 기준으로 대출을 받을 수 있는 제도를 마련해 주세요  \n",
       "9320                              여성가족부 폐지를 청원 합니다.  \n",
       "9321                               공무원 봉급좀 줄이지좀 마세요  \n",
       "9322        지금 시간이 흐르고 있는 이 날 못먹은 밥은 꼭 담에 먹기로 하고요!!  \n",
       "9323                         법정공휴일의 유급휴무화를 막아야 합니다.  \n",
       "\n",
       "[9324 rows x 8 columns]"
      ]
     },
     "execution_count": 15,
     "metadata": {},
     "output_type": "execute_result"
    }
   ],
   "source": [
    "df_adv = pd.DataFrame(df)\n",
    "df_adv.to_csv('train_adv_augmentation.csv', index=False)\n",
    "df_adv"
   ]
  },
  {
   "cell_type": "markdown",
   "id": "cf13af06",
   "metadata": {},
   "source": [
    "### Augmentation\n",
    "insertion augmentation만 진행"
   ]
  },
  {
   "cell_type": "code",
   "execution_count": 34,
   "id": "4e0fd89b",
   "metadata": {},
   "outputs": [],
   "source": [
    "df['sentence_1_bert'] = df['sentence_1'].apply(lambda x: random_masking_insertion(x))\n",
    "df['sentence_2_bert'] = df['sentence_2'].apply(lambda x: random_masking_insertion(x))"
   ]
  },
  {
   "cell_type": "code",
   "execution_count": 35,
   "id": "6d779fc7",
   "metadata": {},
   "outputs": [
    {
     "data": {
      "text/html": [
       "<div>\n",
       "<style scoped>\n",
       "    .dataframe tbody tr th:only-of-type {\n",
       "        vertical-align: middle;\n",
       "    }\n",
       "\n",
       "    .dataframe tbody tr th {\n",
       "        vertical-align: top;\n",
       "    }\n",
       "\n",
       "    .dataframe thead th {\n",
       "        text-align: right;\n",
       "    }\n",
       "</style>\n",
       "<table border=\"1\" class=\"dataframe\">\n",
       "  <thead>\n",
       "    <tr style=\"text-align: right;\">\n",
       "      <th></th>\n",
       "      <th>id</th>\n",
       "      <th>source</th>\n",
       "      <th>sentence_1</th>\n",
       "      <th>sentence_2</th>\n",
       "      <th>label</th>\n",
       "      <th>binary-label</th>\n",
       "      <th>sentence_1_bert</th>\n",
       "      <th>sentence_2_bert</th>\n",
       "    </tr>\n",
       "  </thead>\n",
       "  <tbody>\n",
       "    <tr>\n",
       "      <th>0</th>\n",
       "      <td>boostcamp-sts-v1-train-000</td>\n",
       "      <td>nsmc-sampled</td>\n",
       "      <td>스릴도있고 반전도 있고 여느 한국영화 쓰레기들하고는 차원이 다르네요~</td>\n",
       "      <td>반전도 있고,사랑도 있고재미도있네요.</td>\n",
       "      <td>2.2</td>\n",
       "      <td>0.0</td>\n",
       "      <td>스릴도있고 반전도 있고 여느 한국영화 쓰레기들하고는 차원이 좀 다르네요 ~</td>\n",
       "      <td>반전도 있고,사랑도 있고재미도있네요.</td>\n",
       "    </tr>\n",
       "    <tr>\n",
       "      <th>1</th>\n",
       "      <td>boostcamp-sts-v1-train-001</td>\n",
       "      <td>slack-rtt</td>\n",
       "      <td>앗 제가 접근권한이 없다고 뜹니다;;</td>\n",
       "      <td>오, 액세스 권한이 없다고 합니다.</td>\n",
       "      <td>4.2</td>\n",
       "      <td>1.0</td>\n",
       "      <td>앗! 제가 접근권한이 없다고 뜹니다 ; ;</td>\n",
       "      <td>그리고 오, 액세스 권한이 없다고 합니다.</td>\n",
       "    </tr>\n",
       "    <tr>\n",
       "      <th>2</th>\n",
       "      <td>boostcamp-sts-v1-train-002</td>\n",
       "      <td>petition-sampled</td>\n",
       "      <td>주택청약조건 변경해주세요.</td>\n",
       "      <td>주택청약 무주택기준 변경해주세요.</td>\n",
       "      <td>2.4</td>\n",
       "      <td>0.0</td>\n",
       "      <td>주택청약조건 변경해주세요.</td>\n",
       "      <td>주택청약 무주택기준 변경해주세요.</td>\n",
       "    </tr>\n",
       "    <tr>\n",
       "      <th>3</th>\n",
       "      <td>boostcamp-sts-v1-train-003</td>\n",
       "      <td>slack-sampled</td>\n",
       "      <td>입사후 처음 대면으로 만나 반가웠습니다.</td>\n",
       "      <td>화상으로만 보다가 리얼로 만나니 정말 반가웠습니다.</td>\n",
       "      <td>3.0</td>\n",
       "      <td>1.0</td>\n",
       "      <td>회사 입사후 처음 대면으로 만나 반가웠습니다.</td>\n",
       "      <td>화상으로만 보다가 리얼로 다시 만나니 정말 반가웠습니다.</td>\n",
       "    </tr>\n",
       "    <tr>\n",
       "      <th>4</th>\n",
       "      <td>boostcamp-sts-v1-train-004</td>\n",
       "      <td>slack-sampled</td>\n",
       "      <td>뿌듯뿌듯 하네요!!</td>\n",
       "      <td>꼬옥 실제로 한번 뵈어요 뿌뿌뿌~!~!</td>\n",
       "      <td>0.0</td>\n",
       "      <td>0.0</td>\n",
       "      <td>뿌듯뿌듯 하네요!!</td>\n",
       "      <td>꼬옥 ~ 실제로 한번 뵈어요 뿌뿌뿌 ~! ~!</td>\n",
       "    </tr>\n",
       "  </tbody>\n",
       "</table>\n",
       "</div>"
      ],
      "text/plain": [
       "                           id            source  \\\n",
       "0  boostcamp-sts-v1-train-000      nsmc-sampled   \n",
       "1  boostcamp-sts-v1-train-001         slack-rtt   \n",
       "2  boostcamp-sts-v1-train-002  petition-sampled   \n",
       "3  boostcamp-sts-v1-train-003     slack-sampled   \n",
       "4  boostcamp-sts-v1-train-004     slack-sampled   \n",
       "\n",
       "                               sentence_1                    sentence_2  \\\n",
       "0  스릴도있고 반전도 있고 여느 한국영화 쓰레기들하고는 차원이 다르네요~          반전도 있고,사랑도 있고재미도있네요.   \n",
       "1                    앗 제가 접근권한이 없다고 뜹니다;;           오, 액세스 권한이 없다고 합니다.   \n",
       "2                          주택청약조건 변경해주세요.            주택청약 무주택기준 변경해주세요.   \n",
       "3                  입사후 처음 대면으로 만나 반가웠습니다.  화상으로만 보다가 리얼로 만나니 정말 반가웠습니다.   \n",
       "4                              뿌듯뿌듯 하네요!!         꼬옥 실제로 한번 뵈어요 뿌뿌뿌~!~!   \n",
       "\n",
       "   label  binary-label                            sentence_1_bert  \\\n",
       "0    2.2           0.0  스릴도있고 반전도 있고 여느 한국영화 쓰레기들하고는 차원이 좀 다르네요 ~   \n",
       "1    4.2           1.0                    앗! 제가 접근권한이 없다고 뜹니다 ; ;   \n",
       "2    2.4           0.0                             주택청약조건 변경해주세요.   \n",
       "3    3.0           1.0                  회사 입사후 처음 대면으로 만나 반가웠습니다.   \n",
       "4    0.0           0.0                                 뿌듯뿌듯 하네요!!   \n",
       "\n",
       "                   sentence_2_bert  \n",
       "0             반전도 있고,사랑도 있고재미도있네요.  \n",
       "1          그리고 오, 액세스 권한이 없다고 합니다.  \n",
       "2               주택청약 무주택기준 변경해주세요.  \n",
       "3  화상으로만 보다가 리얼로 다시 만나니 정말 반가웠습니다.  \n",
       "4        꼬옥 ~ 실제로 한번 뵈어요 뿌뿌뿌 ~! ~!  "
      ]
     },
     "execution_count": 35,
     "metadata": {},
     "output_type": "execute_result"
    }
   ],
   "source": [
    "df.head()"
   ]
  },
  {
   "cell_type": "code",
   "execution_count": 41,
   "id": "b8010cc5",
   "metadata": {},
   "outputs": [
    {
     "data": {
      "text/plain": [
       "1881"
      ]
     },
     "execution_count": 41,
     "metadata": {},
     "output_type": "execute_result"
    }
   ],
   "source": [
    "same = ((df['sentence_1'] == df['sentence_1_bert']) & (df['sentence_2'] == df['sentence_2_bert'])).sum()\n",
    "same"
   ]
  },
  {
   "cell_type": "code",
   "execution_count": 36,
   "id": "04ab7819",
   "metadata": {},
   "outputs": [
    {
     "name": "stdout",
     "output_type": "stream",
     "text": [
      "                               sentence_1  \\\n",
      "0  스릴도있고 반전도 있고 여느 한국영화 쓰레기들하고는 차원이 다르네요~   \n",
      "1                    앗 제가 접근권한이 없다고 뜹니다;;   \n",
      "2                          주택청약조건 변경해주세요.   \n",
      "3                  입사후 처음 대면으로 만나 반가웠습니다.   \n",
      "4                              뿌듯뿌듯 하네요!!   \n",
      "\n",
      "                             sentence_1_bert  \n",
      "0  스릴도있고 반전도 있고 여느 한국영화 쓰레기들하고는 차원이 좀 다르네요 ~  \n",
      "1                    앗! 제가 접근권한이 없다고 뜹니다 ; ;  \n",
      "2                             주택청약조건 변경해주세요.  \n",
      "3                  회사 입사후 처음 대면으로 만나 반가웠습니다.  \n",
      "4                                 뿌듯뿌듯 하네요!!  \n",
      "                     sentence_2                  sentence_2_bert\n",
      "0          반전도 있고,사랑도 있고재미도있네요.             반전도 있고,사랑도 있고재미도있네요.\n",
      "1           오, 액세스 권한이 없다고 합니다.          그리고 오, 액세스 권한이 없다고 합니다.\n",
      "2            주택청약 무주택기준 변경해주세요.               주택청약 무주택기준 변경해주세요.\n",
      "3  화상으로만 보다가 리얼로 만나니 정말 반가웠습니다.  화상으로만 보다가 리얼로 다시 만나니 정말 반가웠습니다.\n",
      "4         꼬옥 실제로 한번 뵈어요 뿌뿌뿌~!~!        꼬옥 ~ 실제로 한번 뵈어요 뿌뿌뿌 ~! ~!\n"
     ]
    }
   ],
   "source": [
    "group_1 = df[['sentence_1', 'sentence_1_bert']]\n",
    "group_2 = df[['sentence_2', 'sentence_2_bert']]\n",
    "print(group_1.head())\n",
    "print(group_2.head())"
   ]
  },
  {
   "cell_type": "code",
   "execution_count": 38,
   "id": "51dedfff",
   "metadata": {},
   "outputs": [
    {
     "name": "stdout",
     "output_type": "stream",
     "text": [
      "3274\n",
      "0.3511368511368511\n"
     ]
    }
   ],
   "source": [
    "cnt_1 = (df['sentence_1'] == df['sentence_1_bert']).sum()\n",
    "print(cnt_1)\n",
    "print(cnt_1/len(df))"
   ]
  },
  {
   "cell_type": "code",
   "execution_count": 39,
   "id": "02226a95",
   "metadata": {},
   "outputs": [
    {
     "name": "stdout",
     "output_type": "stream",
     "text": [
      "2752\n",
      "0.29515229515229513\n"
     ]
    }
   ],
   "source": [
    "cnt_2 = (df['sentence_2'] == df['sentence_2_bert']).sum()\n",
    "print(cnt_2)\n",
    "print(cnt_2/len(df))"
   ]
  },
  {
   "cell_type": "markdown",
   "id": "18b13eaf",
   "metadata": {},
   "source": [
    "### Valid Data Load"
   ]
  },
  {
   "cell_type": "code",
   "execution_count": 11,
   "id": "ed3f5766",
   "metadata": {},
   "outputs": [],
   "source": [
    "dev = pd.read_csv('dev.csv')"
   ]
  },
  {
   "cell_type": "code",
   "execution_count": 12,
   "id": "0a6ef1a1",
   "metadata": {},
   "outputs": [
    {
     "data": {
      "text/plain": [
       "id                    boostcamp-sts-v1-dev-000\n",
       "source                            nsmc-sampled\n",
       "sentence_1                    액션은개뿔 총몇번쏘고 끝입니다\n",
       "sentence_2      액션은 흉내만 내고 그마저도 후반부에는 슬로우모션 처리\n",
       "label                                      2.0\n",
       "binary-label                               0.0\n",
       "Name: 0, dtype: object"
      ]
     },
     "execution_count": 12,
     "metadata": {},
     "output_type": "execute_result"
    }
   ],
   "source": [
    "dev.iloc[0]"
   ]
  },
  {
   "cell_type": "code",
   "execution_count": null,
   "id": "cb4f7928",
   "metadata": {},
   "outputs": [],
   "source": []
  }
 ],
 "metadata": {
  "kernelspec": {
   "display_name": "3.12.4",
   "language": "python",
   "name": "python3"
  },
  "language_info": {
   "codemirror_mode": {
    "name": "ipython",
    "version": 3
   },
   "file_extension": ".py",
   "mimetype": "text/x-python",
   "name": "python",
   "nbconvert_exporter": "python",
   "pygments_lexer": "ipython3",
   "version": "3.12.4"
  }
 },
 "nbformat": 4,
 "nbformat_minor": 5
}
